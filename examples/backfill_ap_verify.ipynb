{
 "cells": [
  {
   "cell_type": "markdown",
   "metadata": {},
   "source": [
    "# [DM-16399] Backfill ap_verify CI jobs into SQuaSH \n",
    "At the time  of this writing `ap_verify` pipeline in CI is not running `dispatch_verify`. In order to have test data  for defining the mapping between  `lsst.verify` and InfluxDB this notebook will reconstruct `ap_verify` verification jobs and send them to SQuaSH. The SQuaSH API is connected to InfluxDB so the results will appear in Chronograf as well.\n",
    "\n",
    "Note that in order to restore the original timestamp for the jobs, the SQuaSH API must be running with `SQUASH_ETL_MODE=True`."
   ]
  },
  {
   "cell_type": "code",
   "execution_count": null,
   "metadata": {},
   "outputs": [],
   "source": [
    "# Use the SQuaSH demo instance, never use production for this type of work.\n",
    "SQUASH_API_URL = \"https://squash-restful-api-demo.lsst.codes\""
   ]
  },
  {
   "cell_type": "markdown",
   "metadata": {},
   "source": [
    "## Grab ap_verify jobs from Jenkins and send to SQuaSH"
   ]
  },
  {
   "cell_type": "code",
   "execution_count": null,
   "metadata": {},
   "outputs": [],
   "source": [
    "# GitHub auth tokento access Jenkins (https://github.com/settings/tokens)\n",
    "token = \"\""
   ]
  },
  {
   "cell_type": "code",
   "execution_count": null,
   "metadata": {},
   "outputs": [],
   "source": [
    "from dateutil.parser import parse\n",
    "\n",
    "# Environment variables needed to reconstruct the verification job\n",
    "env_name = \"jenkins\"\n",
    "ci_name = \"ap_verify\"\n",
    "ci_dataset = \"CI-HiTS2015\"\n",
    "\n",
    "# List of `ap_verify` runs from the Jenkins API \n",
    "ap_verify_url = \"https://ci.lsst.codes/job/scipipe/job/ap_verify/api/json\"\n",
    "ap_verify = requests.get(ap_verify_url, auth=('afausti', token)).json()\n",
    "\n",
    "# Loop over the CI runs\n",
    "for build in ap_verify['builds']:\n",
    "    \n",
    "    ci_id = build['number']\n",
    "    ci_url = build['url']\n",
    "    \n",
    "    print(\"Sending CI job {}\".format(ci_id))\n",
    "    \n",
    "    # Get an access token for the SQuaSH API, this is done here to avoid\n",
    "    # token to expire\n",
    "    r = requests.post(SQUASH_API_URL + \"/auth\", json='testuser')\n",
    "    headers = dict()\n",
    "    headers['Authorization'] = 'JWT ' + r.json()['access_token']\n",
    "\n",
    "    \n",
    "    # Retrieve the original timestamp for this run\n",
    "    build_timestamp_url = \"https://ci.lsst.codes/job/scipipe/job/ap_verify/{}/buildTimestamp\".format(ci_id)\n",
    "    build_timestamp = requests.get(build_timestamp_url, auth=('afausti', token)).text\n",
    "    \n",
    "    date = parse(build_timestamp).strftime(\"%Y-%m-%dT%H:%M:%SZ\")\n",
    "\n",
    "    # dataIds processed by ap_verify (I was not able to retrieve these from the Jenkins API)\n",
    "\n",
    "    data_ids=[{'visit': 411371, 'ccdnum': 56, 'filter': 'g'}, \n",
    "              {'visit': 411371, 'ccdnum': 60, 'filter': 'g'},\n",
    "              {'visit': 411420, 'ccdnum': 10, 'filter': 'g'},\n",
    "              {'visit': 411420, 'ccdnum': 5,  'filter': 'g'},\n",
    "              {'visit': 419802, 'ccdnum': 10, 'filter': 'g'},\n",
    "              {'visit': 419802, 'ccdnum': 5,  'filter': 'g'}]\n",
    "\n",
    "    for data_id in data_ids:\n",
    "\n",
    "        # Retrieve the verification measurements \n",
    "        artifact_url = ci_url + \"artifact/ci-hits2015/ap_verify/{}/ap_verify.visit={}%20ccdnum={}%20filter={}.verify.json\".format(ci_dataset, data_id['visit'], data_id['ccdnum'], data_id['filter'])\n",
    "        print(artifact_url)\n",
    "        \n",
    "        r = requests.get(artifact_url, auth=('afausti', token))\n",
    "\n",
    "        data = r.json()\n",
    "        \n",
    "        # Reconstruct job environment metadata\n",
    "        env = {'ci_id': ci_id, 'ci_name': ci_name, 'ci_dataset': ci_dataset, 'date': date, 'env_name': env_name}\n",
    "\n",
    "        data['meta']['env'] = env\n",
    "\n",
    "        # Package information is not reconstructed here.\n",
    "        data['meta']['packages'] = \"\" \n",
    "\n",
    "        # Reconstruct other job level metadata\n",
    "        data['meta']['visit'] = data_id['visit']\n",
    "        data['meta']['ccdnum'] = data_id['ccdnum']\n",
    "        data['meta']['filter'] = data_id['filter']\n",
    "\n",
    "        r = requests.post(SQUASH_API_URL + \"/job\", json=data, headers=headers)\n",
    "        r.json()\n",
    "\n"
   ]
  }
 ],
 "metadata": {
  "kernelspec": {
   "display_name": "Python 3",
   "language": "python",
   "name": "python3"
  },
  "language_info": {
   "codemirror_mode": {
    "name": "ipython",
    "version": 3
   },
   "file_extension": ".py",
   "mimetype": "text/x-python",
   "name": "python",
   "nbconvert_exporter": "python",
   "pygments_lexer": "ipython3",
   "version": "3.6.5"
  }
 },
 "nbformat": 4,
 "nbformat_minor": 2
}
