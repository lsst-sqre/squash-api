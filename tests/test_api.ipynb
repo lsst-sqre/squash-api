{
 "cells": [
  {
   "cell_type": "markdown",
   "metadata": {},
   "source": [
    "## First we register a test user in SQuaSH and get an access token \n",
    "You may be running the [squash-restful-api](https://github.com/lsst-sqre/squash-rest-api) app locally, in this case use `SQUASH_API_URL=http://127.0.0.1:5000`, or you could use the deployed demo at https://squash-restful-api-demo.lsst.codes if available.\n",
    "\n",
    "You can check the API documentation at https://sqr-009.lsst.io/#the-squash-restful-api\n"
   ]
  },
  {
   "cell_type": "code",
   "execution_count": null,
   "metadata": {},
   "outputs": [],
   "source": [
    "SQUASH_API_URL = \"http://127.0.0.1:5000\"\n",
    "#SQUASH_API_URL = \"https://squash-restful-api-demo.lsst.codes\""
   ]
  },
  {
   "cell_type": "code",
   "execution_count": null,
   "metadata": {},
   "outputs": [],
   "source": [
    "import requests\n",
    "\n",
    "user={'username': 'testuser', 'password': 'testpwd'}\n",
    "r = requests.post(SQUASH_API_URL + \"/register\", json=user)\n",
    "r.json()\n"
   ]
  },
  {
   "cell_type": "code",
   "execution_count": null,
   "metadata": {},
   "outputs": [],
   "source": [
    "r = requests.post(SQUASH_API_URL + \"/auth\", json=user)\n",
    "r.json()"
   ]
  },
  {
   "cell_type": "markdown",
   "metadata": {},
   "source": [
    "Add the access token into the authorization header for the next requests."
   ]
  },
  {
   "cell_type": "code",
   "execution_count": null,
   "metadata": {},
   "outputs": [],
   "source": [
    "headers = dict()\n",
    "headers['Authorization'] = 'JWT ' + r.json()['access_token']"
   ]
  },
  {
   "cell_type": "markdown",
   "metadata": {},
   "source": [
    "## We'll use a test verification job \n",
    "You can reproduce this verification job document with the following command:\n",
    "\n",
    "`$ dispatch_verify.py --test --env jenkins --lsstsw $(pwd) Cfht_output_r.json --write verify_job.json`\n",
    "\n",
    "where `Cfht_output_r.json` is an output from `validate_drp`."
   ]
  },
  {
   "cell_type": "code",
   "execution_count": null,
   "metadata": {},
   "outputs": [],
   "source": [
    "import json\n",
    "with open(\"data/verify_job_with_null.json\", \"r\") as f:\n",
    "     data = json.load(f)"
   ]
  },
  {
   "cell_type": "markdown",
   "metadata": {},
   "source": [
    "A verification job is a container for measurements, metadata, data blobs as well as metric definitions and specifications. Metric definitions and specifications are pre-loaded to SQuaSH and only measurements, metadata and data blobs must be sent to SQuaSH each time a new verification job is registered. For the purpose of testing the API we will exercise loading metric definitions and specifications here too."
   ]
  },
  {
   "cell_type": "code",
   "execution_count": null,
   "metadata": {},
   "outputs": [],
   "source": [
    "data.keys()"
   ]
  },
  {
   "cell_type": "code",
   "execution_count": null,
   "metadata": {},
   "outputs": [],
   "source": [
    "data['blobs'][0].keys()"
   ]
  },
  {
   "cell_type": "markdown",
   "metadata": {},
   "source": [
    "## Loading metric definitions\n"
   ]
  },
  {
   "cell_type": "code",
   "execution_count": null,
   "metadata": {},
   "outputs": [],
   "source": [
    "metrics={'metrics': data['metrics']}"
   ]
  },
  {
   "cell_type": "code",
   "execution_count": null,
   "metadata": {},
   "outputs": [],
   "source": [
    "r = requests.post(SQUASH_API_URL + \"/metrics\", json=metrics, headers=headers)\n",
    "r.json()\n",
    "\n"
   ]
  },
  {
   "cell_type": "markdown",
   "metadata": {},
   "source": [
    "## Updating a metric definition"
   ]
  },
  {
   "cell_type": "code",
   "execution_count": null,
   "metadata": {},
   "outputs": [],
   "source": [
    "metric = data['metrics'][0]\n",
    "metric"
   ]
  },
  {
   "cell_type": "code",
   "execution_count": null,
   "metadata": {},
   "outputs": [],
   "source": [
    "r = requests.put(SQUASH_API_URL + \"/metric/{}\".format(metric['name']), json=metric, headers=headers)\n",
    "r.json()"
   ]
  },
  {
   "cell_type": "code",
   "execution_count": null,
   "metadata": {},
   "outputs": [],
   "source": [
    "r = requests.get(SQUASH_API_URL + \"/metric/{}\".format(metric['name']))\n",
    "r.json()"
   ]
  },
  {
   "cell_type": "markdown",
   "metadata": {},
   "source": [
    "## Loading specifications"
   ]
  },
  {
   "cell_type": "code",
   "execution_count": null,
   "metadata": {},
   "outputs": [],
   "source": [
    "specs={'specs': data['specs']}\n",
    "r = requests.post(SQUASH_API_URL + \"/specs\", json=specs, headers=headers)\n",
    "r.json()\n"
   ]
  },
  {
   "cell_type": "markdown",
   "metadata": {},
   "source": [
    "## Update a specification"
   ]
  },
  {
   "cell_type": "code",
   "execution_count": null,
   "metadata": {},
   "outputs": [],
   "source": [
    "spec = data['specs'][0]\n",
    "spec"
   ]
  },
  {
   "cell_type": "code",
   "execution_count": null,
   "metadata": {},
   "outputs": [],
   "source": [
    "r = requests.put(SQUASH_API_URL + \"/spec/{}\".format(spec['name']), json=spec, headers=headers)\n",
    "r.json()"
   ]
  },
  {
   "cell_type": "code",
   "execution_count": null,
   "metadata": {},
   "outputs": [],
   "source": [
    "r = requests.get(SQUASH_API_URL + \"/spec/{}\".format(spec['name']))\n",
    "r.json()"
   ]
  },
  {
   "cell_type": "markdown",
   "metadata": {},
   "source": [
    "## Create a job\n",
    "\n"
   ]
  },
  {
   "cell_type": "markdown",
   "metadata": {},
   "source": [
    "In addition to measurements and blobs, add job metatada which consists of (arbitrary) metadata, packages and environment metadata."
   ]
  },
  {
   "cell_type": "markdown",
   "metadata": {},
   "source": [
    "Specify the dataset for this job"
   ]
  },
  {
   "cell_type": "code",
   "execution_count": null,
   "metadata": {},
   "outputs": [],
   "source": [
    "data['meta']['env']['ci_dataset']='validation_data_cfht'\n"
   ]
  },
  {
   "cell_type": "code",
   "execution_count": null,
   "metadata": {},
   "outputs": [],
   "source": [
    "%%time\n",
    "r = requests.post(SQUASH_API_URL + \"/auth\", json=user)\n",
    "headers['Authorization'] = 'JWT ' + r.json()['access_token']\n",
    "job = {'measurements': data['measurements'], 'meta': data['meta'], 'blobs': data['blobs']}\n",
    "r = requests.post(SQUASH_API_URL + \"/job\", json=job, headers=headers)\n",
    "r.json()"
   ]
  },
  {
   "cell_type": "code",
   "execution_count": null,
   "metadata": {},
   "outputs": [],
   "source": [
    "%%time\n",
    "r = requests.post(SQUASH_API_URL + \"/auth\", json=user)\n",
    "headers['Authorization'] = 'JWT ' + r.json()['access_token']\n",
    "job = {'measurements': data['measurements'], 'meta': data['meta'], 'blobs': []}\n",
    "r = requests.post(SQUASH_API_URL + \"/job\", json=job, headers=headers)\n",
    "r.json()"
   ]
  },
  {
   "cell_type": "markdown",
   "metadata": {},
   "source": [
    "## Finally we generate some verification jobs for testing varying the enviroment metadata as needed\n",
    "\n"
   ]
  },
  {
   "cell_type": "markdown",
   "metadata": {},
   "source": [
    "Job metatada consists of (arbitrary) metadata, packages and environment metadata"
   ]
  },
  {
   "cell_type": "code",
   "execution_count": null,
   "metadata": {},
   "outputs": [],
   "source": [
    "import random\n",
    "import time\n",
    "datasets=['cfht', 'decam', 'hsc']\n",
    "for ci_id in range(10):\n",
    "    data['meta']['env']['ci_id']=str(ci_id)\n",
    "    data['meta']['env']['ci_url']=\"https://example.com/{}\".format(ci_id)\n",
    "    data['meta']['env']['ci_dataset']=random.choice(datasets)\n",
    "    job = {'measurements': data['measurements'], 'meta': data['meta'], 'blobs': data['blobs']}\n",
    "    # sleep 15s to have the jobs created at different times\n",
    "    time.sleep(15)\n",
    "    r = requests.post(SQUASH_API_URL + \"/job\", json=job, headers=headers)\n",
    "    r.json()\n"
   ]
  },
  {
   "cell_type": "markdown",
   "metadata": {},
   "source": [
    "## You can retrieve a job from SQuaSH using"
   ]
  },
  {
   "cell_type": "code",
   "execution_count": null,
   "metadata": {},
   "outputs": [],
   "source": [
    "r = requests.get(SQUASH_API_URL + \"/job/1\")\n",
    "#r.json()"
   ]
  }
 ],
 "metadata": {
  "kernelspec": {
   "display_name": "Python 3 (ipykernel)",
   "language": "python",
   "name": "python3"
  },
  "language_info": {
   "codemirror_mode": {
    "name": "ipython",
    "version": 3
   },
   "file_extension": ".py",
   "mimetype": "text/x-python",
   "name": "python",
   "nbconvert_exporter": "python",
   "pygments_lexer": "ipython3",
   "version": "3.9.16"
  }
 },
 "nbformat": 4,
 "nbformat_minor": 2
}
