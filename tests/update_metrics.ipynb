{
 "cells": [
  {
   "cell_type": "markdown",
   "metadata": {},
   "source": [
    "## Update metric definitions and specifications in SQuaSH\n",
    "\n",
    "Set the API instance. For the demo instance:"
   ]
  },
  {
   "cell_type": "code",
   "execution_count": null,
   "metadata": {},
   "outputs": [],
   "source": [
    "SQUASH_API_URL = \"https://squash-restful-api-demo.lsst.codes\""
   ]
  },
  {
   "cell_type": "markdown",
   "metadata": {},
   "source": [
    "### Authenticate user"
   ]
  },
  {
   "cell_type": "code",
   "execution_count": null,
   "metadata": {},
   "outputs": [],
   "source": [
    "import getpass\n",
    "username = 'nobody'\n",
    "password = getpass.getpass(prompt='Password for user `{}`: '.format(username))"
   ]
  },
  {
   "cell_type": "code",
   "execution_count": null,
   "metadata": {},
   "outputs": [],
   "source": [
    "import requests\n",
    "\n",
    "user={'username': username, 'password': password}\n",
    "r = requests.post(SQUASH_API_URL + \"/register\", json=user)\n",
    "r.json()\n"
   ]
  },
  {
   "cell_type": "code",
   "execution_count": null,
   "metadata": {},
   "outputs": [],
   "source": [
    "r = requests.post(SQUASH_API_URL + \"/auth\", json=user)\n",
    "r.json()"
   ]
  },
  {
   "cell_type": "markdown",
   "metadata": {},
   "source": [
    "Add the access token into the authorization header for the next requests."
   ]
  },
  {
   "cell_type": "code",
   "execution_count": null,
   "metadata": {},
   "outputs": [],
   "source": [
    "headers = dict()\n",
    "headers['Authorization'] = 'JWT ' + r.json()['access_token']"
   ]
  },
  {
   "cell_type": "markdown",
   "metadata": {},
   "source": [
    "### Get metric definitions and specifications from the verify_metrics repository"
   ]
  },
  {
   "cell_type": "code",
   "execution_count": null,
   "metadata": {},
   "outputs": [],
   "source": [
    "%%bash\n",
    "git clone https://github.com/lsst/verify_metrics.git"
   ]
  },
  {
   "cell_type": "code",
   "execution_count": null,
   "metadata": {},
   "outputs": [],
   "source": [
    "import lsst.verify\n",
    "metrics = lsst.verify.MetricSet.load_metrics_package('verify_metrics')\n",
    "specs = lsst.verify.SpecificationSet.load_metrics_package('verify_metrics')"
   ]
  },
  {
   "cell_type": "markdown",
   "metadata": {},
   "source": [
    "### Update metric definitions"
   ]
  },
  {
   "cell_type": "code",
   "execution_count": null,
   "metadata": {},
   "outputs": [],
   "source": [
    "\n",
    "for metric in metrics.json:\n",
    "    r = requests.put(SQUASH_API_URL + \"/metric/{}\".format(metric['name']), json=metric, headers=headers)\n",
    "    if r.status_code == requests.codes.not_found:\n",
    "        print('Metric {} not found, creating...'.format(metric))\n",
    "        r = requests.post(SQUASH_API_URL + \"/metric/{}\".format(metric['name']), json=metric, headers=headers)\n",
    "        "
   ]
  },
  {
   "cell_type": "markdown",
   "metadata": {},
   "source": [
    "### Update specifications"
   ]
  },
  {
   "cell_type": "code",
   "execution_count": null,
   "metadata": {},
   "outputs": [],
   "source": [
    "for spec in specs.json:\n",
    "    r = requests.put(SQUASH_API_URL + \"/spec/{}\".format(spec['name']), json=spec, headers=headers)\n",
    "    if r.status_code == requests.codes.not_found:\n",
    "        print('Specification {} not found, creating...'.format(spec))\n",
    "        r = requests.post(SQUASH_API_URL + \"/spec/{}\".format(spec['name']), json=spec, headers=headers)\n",
    "\n"
   ]
  }
 ],
 "metadata": {
  "kernelspec": {
   "display_name": "Python 3",
   "language": "python",
   "name": "python3"
  }
 },
 "nbformat": 4,
 "nbformat_minor": 2
}
